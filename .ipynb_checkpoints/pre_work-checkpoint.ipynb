{
 "cells": [
  {
   "cell_type": "markdown",
   "metadata": {},
   "source": [
    "1. pandas を pd のエイリアスでimportする"
   ]
  },
  {
   "cell_type": "code",
   "execution_count": 1,
   "metadata": {},
   "outputs": [],
   "source": [
    "import pandas as pd"
   ]
  },
  {
   "cell_type": "markdown",
   "metadata": {},
   "source": [
    "2. pandasのバージョンを表示する"
   ]
  },
  {
   "cell_type": "code",
   "execution_count": 2,
   "metadata": {},
   "outputs": [
    {
     "name": "stdout",
     "output_type": "stream",
     "text": [
      "1.0.1\n"
     ]
    }
   ],
   "source": [
    "print(pd.__version__)"
   ]
  },
  {
   "cell_type": "markdown",
   "metadata": {},
   "source": [
    "3. DataFrameの作成"
   ]
  },
  {
   "cell_type": "code",
   "execution_count": 3,
   "metadata": {},
   "outputs": [
    {
     "name": "stdout",
     "output_type": "stream",
     "text": [
      "   shop_name  sales  visits priority\n",
      "a    *ownson    2.5    10.0      yes\n",
      "b    *ownson    3.0    31.0      yes\n",
      "c     *aikin    0.5    24.0       no\n",
      "d  *atsukiyo    NaN    39.0      yes\n",
      "e  *atsukiyo    5.0     NaN       no\n",
      "f    *ownson    2.0    31.0       no\n",
      "g     *aikin    4.5    10.0       no\n",
      "h    *ownson    NaN    16.0      yes\n",
      "i  *atsukiyo    7.0    27.0       no\n",
      "j  *atsukiyo    3.0    12.0       no\n",
      "k    *ownson    2.0     NaN      NaN\n",
      "l     *aikin    3.0    12.0      NaN\n",
      "m    *ownson    NaN     NaN      NaN\n"
     ]
    }
   ],
   "source": [
    "import numpy as np\n",
    "\n",
    "data = {'shop_name': ['*ownson', '*ownson', '*aikin', '*atsukiyo','*atsukiyo',\n",
    "                      '*ownson', '*aikin', '*ownson', '*atsukiyo', '*atsukiyo', '*ownson', '*aikin', '*ownson'],\n",
    "        'sales': [2.5, 3, 0.5, np.nan, 5, 2, 4.5, np.nan, 7, 3,2,3,np.nan],\n",
    "        'visits': [10, 31, 24, 39, np.nan, 31, 10, 16, 27, 12,np.nan,12,np.nan],\n",
    "        'priority': ['yes', 'yes', 'no', 'yes', 'no', 'no', 'no', 'yes', 'no', 'no',np.nan ,np.nan, np.nan]}\n",
    "\n",
    "labels = ['a', 'b', 'c', 'd', 'e', 'f', 'g', 'h', 'i', 'j', 'k', 'l', 'm']\n",
    "\n",
    "df = pd.DataFrame(data,labels)\n",
    "print(df)"
   ]
  },
  {
   "cell_type": "markdown",
   "metadata": {},
   "source": [
    "4. 全体の平均売り上げを示す "
   ]
  },
  {
   "cell_type": "code",
   "execution_count": 4,
   "metadata": {},
   "outputs": [
    {
     "name": "stdout",
     "output_type": "stream",
     "text": [
      "3.25\n"
     ]
    }
   ],
   "source": [
    "sales_mean = df.mean()[\"sales\"]\n",
    "print(sales_mean)"
   ]
  },
  {
   "cell_type": "markdown",
   "metadata": {},
   "source": [
    "5. 欠損値の穴埋め\n",
    "\n",
    "各カラムの欠損値を以下のように穴埋めする\n",
    "\n",
    "sales:平均\n",
    "visits:0\n",
    "priority:\"no_comment\""
   ]
  },
  {
   "cell_type": "code",
   "execution_count": 5,
   "metadata": {},
   "outputs": [
    {
     "name": "stdout",
     "output_type": "stream",
     "text": [
      "   shop_name  sales  visits    priority\n",
      "a    *ownson   2.50    10.0         yes\n",
      "b    *ownson   3.00    31.0         yes\n",
      "c     *aikin   0.50    24.0          no\n",
      "d  *atsukiyo   3.25    39.0         yes\n",
      "e  *atsukiyo   5.00     0.0          no\n",
      "f    *ownson   2.00    31.0          no\n",
      "g     *aikin   4.50    10.0          no\n",
      "h    *ownson   3.25    16.0         yes\n",
      "i  *atsukiyo   7.00    27.0          no\n",
      "j  *atsukiyo   3.00    12.0          no\n",
      "k    *ownson   2.00     0.0  no_comment\n",
      "l     *aikin   3.00    12.0  no_comment\n",
      "m    *ownson   3.25     0.0  no_comment\n"
     ]
    }
   ],
   "source": [
    "df.loc[df['sales'].isnull(), 'sales'] = sales_mean \n",
    "df.loc[df['visits'].isnull(), 'visits'] = 0 \n",
    "df.loc[df['priority'].isnull(), 'priority'] = \"no_comment\"\n",
    "print(df)"
   ]
  },
  {
   "cell_type": "markdown",
   "metadata": {},
   "source": [
    "6. 店舗名ごとの平均売り上げを求める\n",
    "\n",
    "店舗名はshop_nameにあるデータを、売り上げはsalesにあるデータを用いて求めること"
   ]
  },
  {
   "cell_type": "code",
   "execution_count": 6,
   "metadata": {},
   "outputs": [
    {
     "name": "stdout",
     "output_type": "stream",
     "text": [
      "shop_name\n",
      "*aikin       2.666667\n",
      "*atsukiyo    4.562500\n",
      "*ownson      2.666667\n",
      "Name: sales, dtype: float64\n"
     ]
    }
   ],
   "source": [
    "shops_mean = df.groupby(\"shop_name\").mean()[\"sales\"]\n",
    "print(shops_mean)"
   ]
  },
  {
   "cell_type": "markdown",
   "metadata": {},
   "source": [
    "7.店舗名ごとに店舗数をカウント\n",
    "\n",
    "店舗名はshop_nameにあるデータを用いること"
   ]
  },
  {
   "cell_type": "code",
   "execution_count": 7,
   "metadata": {
    "scrolled": true
   },
   "outputs": [
    {
     "data": {
      "text/plain": [
       "shop_name\n",
       "*aikin       3\n",
       "*atsukiyo    4\n",
       "*ownson      6\n",
       "dtype: int64"
      ]
     },
     "execution_count": 7,
     "metadata": {},
     "output_type": "execute_result"
    }
   ],
   "source": [
    "shops_num = df.groupby(\"shop_name\").size()\n",
    "shops_num"
   ]
  },
  {
   "cell_type": "markdown",
   "metadata": {},
   "source": [
    "8. データフレームの作成し、欠損値NaNを前後の値から補完する"
   ]
  },
  {
   "cell_type": "code",
   "execution_count": 8,
   "metadata": {
    "scrolled": true
   },
   "outputs": [
    {
     "data": {
      "text/html": [
       "<div>\n",
       "<style scoped>\n",
       "    .dataframe tbody tr th:only-of-type {\n",
       "        vertical-align: middle;\n",
       "    }\n",
       "\n",
       "    .dataframe tbody tr th {\n",
       "        vertical-align: top;\n",
       "    }\n",
       "\n",
       "    .dataframe thead th {\n",
       "        text-align: right;\n",
       "    }\n",
       "</style>\n",
       "<table border=\"1\" class=\"dataframe\">\n",
       "  <thead>\n",
       "    <tr style=\"text-align: right;\">\n",
       "      <th></th>\n",
       "      <th>Id_CategoryName</th>\n",
       "      <th>AdNumber</th>\n",
       "      <th>CreativeIds</th>\n",
       "      <th>Client</th>\n",
       "    </tr>\n",
       "  </thead>\n",
       "  <tbody>\n",
       "    <tr>\n",
       "      <th>0</th>\n",
       "      <td>2_beauty</td>\n",
       "      <td>10045.0</td>\n",
       "      <td>[23, 47]</td>\n",
       "      <td>GlobalBeuaty(!#)</td>\n",
       "    </tr>\n",
       "    <tr>\n",
       "      <th>1</th>\n",
       "      <td>42_Others</td>\n",
       "      <td>10055.0</td>\n",
       "      <td>[]</td>\n",
       "      <td>&lt;TohoGas (12)&gt;</td>\n",
       "    </tr>\n",
       "    <tr>\n",
       "      <th>2</th>\n",
       "      <td>8_coSmeTics</td>\n",
       "      <td>10065.0</td>\n",
       "      <td>[24, 43, 87]</td>\n",
       "      <td>(Medics healthcare. )</td>\n",
       "    </tr>\n",
       "    <tr>\n",
       "      <th>3</th>\n",
       "      <td>9_e-BOOK</td>\n",
       "      <td>10075.0</td>\n",
       "      <td>[13]</td>\n",
       "      <td>12. Every news</td>\n",
       "    </tr>\n",
       "    <tr>\n",
       "      <th>4</th>\n",
       "      <td>10_finance</td>\n",
       "      <td>10085.0</td>\n",
       "      <td>[67, 32]</td>\n",
       "      <td>\"R cards\"</td>\n",
       "    </tr>\n",
       "  </tbody>\n",
       "</table>\n",
       "</div>"
      ],
      "text/plain": [
       "  Id_CategoryName  AdNumber   CreativeIds                 Client\n",
       "0        2_beauty   10045.0      [23, 47]       GlobalBeuaty(!#)\n",
       "1       42_Others   10055.0            []         <TohoGas (12)>\n",
       "2     8_coSmeTics   10065.0  [24, 43, 87]  (Medics healthcare. )\n",
       "3        9_e-BOOK   10075.0          [13]         12. Every news\n",
       "4      10_finance   10085.0      [67, 32]              \"R cards\""
      ]
     },
     "execution_count": 8,
     "metadata": {},
     "output_type": "execute_result"
    }
   ],
   "source": [
    "data_2 = {'Id_CategoryName':['2_beauty','42_Others','8_coSmeTics','9_e-BOOK','10_finance'],\n",
    "        'AdNumber':[10045.0,np.nan,10065.0,np.nan,10085.0],\n",
    "        'CreativeIds':[[23, 47],[],[24, 43, 87],[13],[67, 32]],\n",
    "        'Client':['GlobalBeuaty(!#)','<TohoGas (12)>','(Medics healthcare. )','12. Every news','\"R cards\"']\n",
    "       }\n",
    "df_2 = pd.DataFrame(data_2)\n",
    "df_2['AdNumber'] = df_2['AdNumber'].interpolate()\n",
    "df_2"
   ]
  },
  {
   "cell_type": "markdown",
   "metadata": {},
   "source": [
    "9. 列データの分割"
   ]
  },
  {
   "cell_type": "code",
   "execution_count": 9,
   "metadata": {
    "scrolled": true
   },
   "outputs": [
    {
     "data": {
      "text/html": [
       "<div>\n",
       "<style scoped>\n",
       "    .dataframe tbody tr th:only-of-type {\n",
       "        vertical-align: middle;\n",
       "    }\n",
       "\n",
       "    .dataframe tbody tr th {\n",
       "        vertical-align: top;\n",
       "    }\n",
       "\n",
       "    .dataframe thead th {\n",
       "        text-align: right;\n",
       "    }\n",
       "</style>\n",
       "<table border=\"1\" class=\"dataframe\">\n",
       "  <thead>\n",
       "    <tr style=\"text-align: right;\">\n",
       "      <th></th>\n",
       "      <th>Id</th>\n",
       "      <th>CategoryName</th>\n",
       "    </tr>\n",
       "  </thead>\n",
       "  <tbody>\n",
       "    <tr>\n",
       "      <th>0</th>\n",
       "      <td>2</td>\n",
       "      <td>Beauty</td>\n",
       "    </tr>\n",
       "    <tr>\n",
       "      <th>1</th>\n",
       "      <td>42</td>\n",
       "      <td>Others</td>\n",
       "    </tr>\n",
       "    <tr>\n",
       "      <th>2</th>\n",
       "      <td>8</td>\n",
       "      <td>Cosmetics</td>\n",
       "    </tr>\n",
       "    <tr>\n",
       "      <th>3</th>\n",
       "      <td>9</td>\n",
       "      <td>E-book</td>\n",
       "    </tr>\n",
       "    <tr>\n",
       "      <th>4</th>\n",
       "      <td>10</td>\n",
       "      <td>Finance</td>\n",
       "    </tr>\n",
       "  </tbody>\n",
       "</table>\n",
       "</div>"
      ],
      "text/plain": [
       "   Id CategoryName\n",
       "0   2       Beauty\n",
       "1  42       Others\n",
       "2   8    Cosmetics\n",
       "3   9       E-book\n",
       "4  10      Finance"
      ]
     },
     "execution_count": 9,
     "metadata": {},
     "output_type": "execute_result"
    }
   ],
   "source": [
    "df_idcn = df_2['Id_CategoryName'].str.split('_', expand=True).rename(columns={0:'Id',1:'CategoryName'})\n",
    "df_idcn['CategoryName'] = df_idcn['CategoryName'].str.capitalize()\n",
    "df_idcn"
   ]
  },
  {
   "cell_type": "markdown",
   "metadata": {},
   "source": [
    "10. 列データの削除とテーブルの結合"
   ]
  },
  {
   "cell_type": "code",
   "execution_count": 10,
   "metadata": {
    "scrolled": true
   },
   "outputs": [
    {
     "data": {
      "text/html": [
       "<div>\n",
       "<style scoped>\n",
       "    .dataframe tbody tr th:only-of-type {\n",
       "        vertical-align: middle;\n",
       "    }\n",
       "\n",
       "    .dataframe tbody tr th {\n",
       "        vertical-align: top;\n",
       "    }\n",
       "\n",
       "    .dataframe thead th {\n",
       "        text-align: right;\n",
       "    }\n",
       "</style>\n",
       "<table border=\"1\" class=\"dataframe\">\n",
       "  <thead>\n",
       "    <tr style=\"text-align: right;\">\n",
       "      <th></th>\n",
       "      <th>AdNumber</th>\n",
       "      <th>CreativeIds</th>\n",
       "      <th>Client</th>\n",
       "      <th>Id</th>\n",
       "      <th>CategoryName</th>\n",
       "    </tr>\n",
       "  </thead>\n",
       "  <tbody>\n",
       "    <tr>\n",
       "      <th>0</th>\n",
       "      <td>10045.0</td>\n",
       "      <td>[23, 47]</td>\n",
       "      <td>GlobalBeuaty(!#)</td>\n",
       "      <td>2</td>\n",
       "      <td>Beauty</td>\n",
       "    </tr>\n",
       "    <tr>\n",
       "      <th>1</th>\n",
       "      <td>10055.0</td>\n",
       "      <td>[]</td>\n",
       "      <td>&lt;TohoGas (12)&gt;</td>\n",
       "      <td>42</td>\n",
       "      <td>Others</td>\n",
       "    </tr>\n",
       "    <tr>\n",
       "      <th>2</th>\n",
       "      <td>10065.0</td>\n",
       "      <td>[24, 43, 87]</td>\n",
       "      <td>(Medics healthcare. )</td>\n",
       "      <td>8</td>\n",
       "      <td>Cosmetics</td>\n",
       "    </tr>\n",
       "    <tr>\n",
       "      <th>3</th>\n",
       "      <td>10075.0</td>\n",
       "      <td>[13]</td>\n",
       "      <td>12. Every news</td>\n",
       "      <td>9</td>\n",
       "      <td>E-book</td>\n",
       "    </tr>\n",
       "    <tr>\n",
       "      <th>4</th>\n",
       "      <td>10085.0</td>\n",
       "      <td>[67, 32]</td>\n",
       "      <td>\"R cards\"</td>\n",
       "      <td>10</td>\n",
       "      <td>Finance</td>\n",
       "    </tr>\n",
       "  </tbody>\n",
       "</table>\n",
       "</div>"
      ],
      "text/plain": [
       "   AdNumber   CreativeIds                 Client  Id CategoryName\n",
       "0   10045.0      [23, 47]       GlobalBeuaty(!#)   2       Beauty\n",
       "1   10055.0            []         <TohoGas (12)>  42       Others\n",
       "2   10065.0  [24, 43, 87]  (Medics healthcare. )   8    Cosmetics\n",
       "3   10075.0          [13]         12. Every news   9       E-book\n",
       "4   10085.0      [67, 32]              \"R cards\"  10      Finance"
      ]
     },
     "execution_count": 10,
     "metadata": {},
     "output_type": "execute_result"
    }
   ],
   "source": [
    "df_2 = df_2.drop('Id_CategoryName', axis=1)\n",
    "df_2 = pd.concat([df_2, df_idcn], axis='columns')\n",
    "df_2"
   ]
  },
  {
   "cell_type": "markdown",
   "metadata": {},
   "source": [
    "11. 文字データの置換"
   ]
  },
  {
   "cell_type": "code",
   "execution_count": 11,
   "metadata": {
    "scrolled": true
   },
   "outputs": [
    {
     "data": {
      "text/html": [
       "<div>\n",
       "<style scoped>\n",
       "    .dataframe tbody tr th:only-of-type {\n",
       "        vertical-align: middle;\n",
       "    }\n",
       "\n",
       "    .dataframe tbody tr th {\n",
       "        vertical-align: top;\n",
       "    }\n",
       "\n",
       "    .dataframe thead th {\n",
       "        text-align: right;\n",
       "    }\n",
       "</style>\n",
       "<table border=\"1\" class=\"dataframe\">\n",
       "  <thead>\n",
       "    <tr style=\"text-align: right;\">\n",
       "      <th></th>\n",
       "      <th>AdNumber</th>\n",
       "      <th>CreativeIds</th>\n",
       "      <th>Client</th>\n",
       "      <th>Id</th>\n",
       "      <th>CategoryName</th>\n",
       "    </tr>\n",
       "  </thead>\n",
       "  <tbody>\n",
       "    <tr>\n",
       "      <th>0</th>\n",
       "      <td>10045.0</td>\n",
       "      <td>[23, 47]</td>\n",
       "      <td>GlobalBeuaty</td>\n",
       "      <td>2</td>\n",
       "      <td>Beauty</td>\n",
       "    </tr>\n",
       "    <tr>\n",
       "      <th>1</th>\n",
       "      <td>10055.0</td>\n",
       "      <td>[]</td>\n",
       "      <td>TohoGas</td>\n",
       "      <td>42</td>\n",
       "      <td>Others</td>\n",
       "    </tr>\n",
       "    <tr>\n",
       "      <th>2</th>\n",
       "      <td>10065.0</td>\n",
       "      <td>[24, 43, 87]</td>\n",
       "      <td>Medics healthcare</td>\n",
       "      <td>8</td>\n",
       "      <td>Cosmetics</td>\n",
       "    </tr>\n",
       "    <tr>\n",
       "      <th>3</th>\n",
       "      <td>10075.0</td>\n",
       "      <td>[13]</td>\n",
       "      <td>Every news</td>\n",
       "      <td>9</td>\n",
       "      <td>E-book</td>\n",
       "    </tr>\n",
       "    <tr>\n",
       "      <th>4</th>\n",
       "      <td>10085.0</td>\n",
       "      <td>[67, 32]</td>\n",
       "      <td>R cards</td>\n",
       "      <td>10</td>\n",
       "      <td>Finance</td>\n",
       "    </tr>\n",
       "  </tbody>\n",
       "</table>\n",
       "</div>"
      ],
      "text/plain": [
       "   AdNumber   CreativeIds              Client  Id CategoryName\n",
       "0   10045.0      [23, 47]        GlobalBeuaty   2       Beauty\n",
       "1   10055.0            []            TohoGas   42       Others\n",
       "2   10065.0  [24, 43, 87]  Medics healthcare    8    Cosmetics\n",
       "3   10075.0          [13]          Every news   9       E-book\n",
       "4   10085.0      [67, 32]             R cards  10      Finance"
      ]
     },
     "execution_count": 11,
     "metadata": {},
     "output_type": "execute_result"
    }
   ],
   "source": [
    "df_2['Client'] = df_2['Client'].str.replace('[!#()<>.\"1-9]', '')\n",
    "df_2"
   ]
  },
  {
   "cell_type": "markdown",
   "metadata": {},
   "source": [
    "12. 複数データを含むカラムの整形"
   ]
  },
  {
   "cell_type": "code",
   "execution_count": 12,
   "metadata": {
    "scrolled": true
   },
   "outputs": [
    {
     "data": {
      "text/html": [
       "<div>\n",
       "<style scoped>\n",
       "    .dataframe tbody tr th:only-of-type {\n",
       "        vertical-align: middle;\n",
       "    }\n",
       "\n",
       "    .dataframe tbody tr th {\n",
       "        vertical-align: top;\n",
       "    }\n",
       "\n",
       "    .dataframe thead th {\n",
       "        text-align: right;\n",
       "    }\n",
       "</style>\n",
       "<table border=\"1\" class=\"dataframe\">\n",
       "  <thead>\n",
       "    <tr style=\"text-align: right;\">\n",
       "      <th></th>\n",
       "      <th>AdNumber</th>\n",
       "      <th>Client</th>\n",
       "      <th>Id</th>\n",
       "      <th>CategoryName</th>\n",
       "      <th>Creative_1</th>\n",
       "      <th>Creative_2</th>\n",
       "      <th>Creative_3</th>\n",
       "    </tr>\n",
       "  </thead>\n",
       "  <tbody>\n",
       "    <tr>\n",
       "      <th>0</th>\n",
       "      <td>10045.0</td>\n",
       "      <td>GlobalBeuaty</td>\n",
       "      <td>2</td>\n",
       "      <td>Beauty</td>\n",
       "      <td>23.0</td>\n",
       "      <td>47.0</td>\n",
       "      <td>NaN</td>\n",
       "    </tr>\n",
       "    <tr>\n",
       "      <th>1</th>\n",
       "      <td>10055.0</td>\n",
       "      <td>TohoGas</td>\n",
       "      <td>42</td>\n",
       "      <td>Others</td>\n",
       "      <td>NaN</td>\n",
       "      <td>NaN</td>\n",
       "      <td>NaN</td>\n",
       "    </tr>\n",
       "    <tr>\n",
       "      <th>2</th>\n",
       "      <td>10065.0</td>\n",
       "      <td>Medics healthcare</td>\n",
       "      <td>8</td>\n",
       "      <td>Cosmetics</td>\n",
       "      <td>24.0</td>\n",
       "      <td>43.0</td>\n",
       "      <td>87.0</td>\n",
       "    </tr>\n",
       "    <tr>\n",
       "      <th>3</th>\n",
       "      <td>10075.0</td>\n",
       "      <td>Every news</td>\n",
       "      <td>9</td>\n",
       "      <td>E-book</td>\n",
       "      <td>13.0</td>\n",
       "      <td>NaN</td>\n",
       "      <td>NaN</td>\n",
       "    </tr>\n",
       "    <tr>\n",
       "      <th>4</th>\n",
       "      <td>10085.0</td>\n",
       "      <td>R cards</td>\n",
       "      <td>10</td>\n",
       "      <td>Finance</td>\n",
       "      <td>67.0</td>\n",
       "      <td>32.0</td>\n",
       "      <td>NaN</td>\n",
       "    </tr>\n",
       "  </tbody>\n",
       "</table>\n",
       "</div>"
      ],
      "text/plain": [
       "   AdNumber              Client  Id CategoryName  Creative_1  Creative_2  \\\n",
       "0   10045.0        GlobalBeuaty   2       Beauty        23.0        47.0   \n",
       "1   10055.0            TohoGas   42       Others         NaN         NaN   \n",
       "2   10065.0  Medics healthcare    8    Cosmetics        24.0        43.0   \n",
       "3   10075.0          Every news   9       E-book        13.0         NaN   \n",
       "4   10085.0             R cards  10      Finance        67.0        32.0   \n",
       "\n",
       "   Creative_3  \n",
       "0         NaN  \n",
       "1         NaN  \n",
       "2        87.0  \n",
       "3         NaN  \n",
       "4         NaN  "
      ]
     },
     "execution_count": 12,
     "metadata": {},
     "output_type": "execute_result"
    }
   ],
   "source": [
    "crea_columns = pd.DataFrame(df_2['CreativeIds'].tolist()).rename(columns=lambda x: \"Creative_\" + str(x+1))\n",
    "df_2 = df_2.drop('CreativeIds', axis=1)\n",
    "df_2 = pd.concat([df_2, crea_columns], axis='columns')\n",
    "df_2"
   ]
  },
  {
   "cell_type": "markdown",
   "metadata": {},
   "source": [
    "13. データフレームの可視化　"
   ]
  },
  {
   "cell_type": "code",
   "execution_count": 13,
   "metadata": {},
   "outputs": [
    {
     "data": {
      "text/plain": [
       "array([1, 5, 2, 8, 1], dtype=int64)"
      ]
     },
     "execution_count": 13,
     "metadata": {},
     "output_type": "execute_result"
    }
   ],
   "source": [
    "import matplotlib.pyplot as plt\n",
    "%matplotlib inline\n",
    "plt.style.use('ggplot')\n",
    "df = pd.DataFrame({\"xs\":[1,5,2,8,1], \"ys\":[4,2,1,9,6]})\n",
    "plt.scatter(df['xs'].values,df['ys'].values)"
   ]
  },
  {
   "cell_type": "code",
   "execution_count": null,
   "metadata": {},
   "outputs": [],
   "source": []
  }
 ],
 "metadata": {
  "kernelspec": {
   "display_name": "Python 3",
   "language": "python",
   "name": "python3"
  },
  "language_info": {
   "codemirror_mode": {
    "name": "ipython",
    "version": 3
   },
   "file_extension": ".py",
   "mimetype": "text/x-python",
   "name": "python",
   "nbconvert_exporter": "python",
   "pygments_lexer": "ipython3",
   "version": "3.7.6"
  }
 },
 "nbformat": 4,
 "nbformat_minor": 4
}
